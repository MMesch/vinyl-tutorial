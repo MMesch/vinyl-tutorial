{
 "cells": [
  {
   "cell_type": "markdown",
   "metadata": {},
   "source": [
    "# Vinyl For Beginners\n",
    "\n",
    "This is a slow, step-by-step tutorial for the record library Vinyl.\n",
    "Records are ubiquituous in programming.\n",
    "Vinyl opens up a window to type level programming with records in Haskell.\n",
    "This means that _at compile time_, record types can be augmented with new fields, subsets can be taken, we can check if a given field is in the record and so on.\n",
    "Runtime access to non-existing fields, and other sources of error can thus be avoided from the beginning on, and the compiler gives instant feedback in the IDE."
   ]
  },
  {
   "cell_type": "markdown",
   "metadata": {},
   "source": [
    "## What are Anonymous Extensible Records and why do we need them?\n",
    "\n",
    "Wikipedia introduces records like this:\n",
    "\n",
    "> In computer science, a record (also called a structure, struct, or compound data) is a basic data structure. Records in a database or spreadsheet are usually called \"rows\".\n",
    "> A record is a collection of fields, possibly of different data types, typically in fixed number and sequence.\n",
    "\n",
    "In Haskell, the standard way to define a record type looks like this:"
   ]
  },
  {
   "cell_type": "code",
   "execution_count": 1,
   "metadata": {},
   "outputs": [],
   "source": [
    "data MyRecord = MyRecord {\n",
    "        name :: String,\n",
    "        age :: Int\n",
    "  }"
   ]
  },
  {
   "cell_type": "markdown",
   "metadata": {},
   "source": [
    "This binds the name `MyRecord` to a new type that is a record with two fields `name` of type `String` and `age` of type `Int`.\n",
    "We can construct a value of this type:"
   ]
  },
  {
   "cell_type": "code",
   "execution_count": 2,
   "metadata": {},
   "outputs": [],
   "source": [
    "myrecord = MyRecord {age = 1, name=\"me\"}"
   ]
  },
  {
   "cell_type": "markdown",
   "metadata": {},
   "source": [
    "Without the field names, standard haskell records are similar to a tuple, a datastructure that could be any combination of `String` and `Int`.\n",
    "However, besides the field names, there is one big conceptual difference between `MyRecord` and a tuple `(String, Int)`:\n",
    "`MyRecord` is a _named_ type whereas `(String, Int)` is _anonymous_, it doesn't have a name that refers to it but is just defined on the fly in terms of its types.\n",
    "For example, we can write:"
   ]
  },
  {
   "cell_type": "code",
   "execution_count": 3,
   "metadata": {},
   "outputs": [
    {
     "ename": "",
     "evalue": "",
     "header": "MessageHeader {mhIdentifiers = [\"a0e4f46c-cc64-4a19-b12d-9f1d3cc9c657\"], mhParentHeader = Just (MessageHeader {mhIdentifiers = [\"a0e4f46c-cc64-4a19-b12d-9f1d3cc9c657\"], mhParentHeader = Nothing, mhMetadata = Metadata (fromList [(\"recordTiming\",Bool False),(\"deletedCells\",Array []),(\"cellId\",String \"3b86b6bc-9f16-47d8-acb4-7c681ad302fd\")]), mhMessageId = UUID {uuidToString = \"ce46323c-4b99-4649-ac5a-d7c634dc4aa6\"}, mhSessionId = UUID {uuidToString = \"a0e4f46c-cc64-4a19-b12d-9f1d3cc9c657\"}, mhUsername = \"\", mhMsgType = ExecuteRequestMessage, mhBuffers = []}), mhMetadata = Metadata (fromList []), mhMessageId = UUID {uuidToString = \"6f2b884d-91c0-40bd-ae38-d999c1b06741\"}, mhSessionId = UUID {uuidToString = \"a0e4f46c-cc64-4a19-b12d-9f1d3cc9c657\"}, mhUsername = \"\", mhMsgType = ExecuteErrorMessage, mhBuffers = []}",
     "output_type": "error",
     "traceback": [
      "<interactive>:1:1: error: The type signature for ‘foo’ lacks an accompanying binding"
     ]
    }
   ],
   "source": [
    "foo :: (String, Int) -> (String, Int, Int)"
   ]
  },
  {
   "cell_type": "markdown",
   "metadata": {},
   "source": [
    "This is what allows to use tuples in a flexible manner.\n",
    "Wouldn't it be nice to define records on the fly as well?\n",
    "Then there is another point of operations.\n",
    "What if I wanted to write a function that takes field names and returns a subset of a record as a new record type with the corresponding fields?\n",
    "How about a function that appends a new field to a record?\n",
    "Instead of having statically defined data types like `MyRecord`, we thus need more flexible types with which we can compute on the fly.\n",
    "And this is where Vinyl comes into play."
   ]
  },
  {
   "cell_type": "markdown",
   "metadata": {},
   "source": [
    "## First Steps with Type Level Records\n",
    "\n",
    "The previous section has made it clear that we will need to do some type level programming.\n",
    "We activate two essential Haskell language extensions that give us basic capacities to do so:"
   ]
  },
  {
   "cell_type": "code",
   "execution_count": 4,
   "metadata": {},
   "outputs": [],
   "source": [
    ":ext DataKinds\n",
    ":ext TypeOperators"
   ]
  },
  {
   "cell_type": "markdown",
   "metadata": {},
   "source": [
    "`DataKinds` allows us to define new types.\n",
    "`TypeOperators` gives us the possibility to compute with these types using operators.\n",
    "Now that we are ready, let's get started and import the Vinyl Record type `Rec`, together with its two constructors `RNil` that builds an empty record and `:&` that prepends a value to another record."
   ]
  },
  {
   "cell_type": "code",
   "execution_count": 5,
   "metadata": {},
   "outputs": [],
   "source": [
    "import Data.Vinyl (Rec(RNil, (:&)))"
   ]
  },
  {
   "cell_type": "markdown",
   "metadata": {},
   "source": [
    "Think about a record as a list, a type level list that contains the types of the various fields as its elements and other things such as field names.\n",
    "But before starting, how about having a look at what we just imported.\n",
    "Here is the _kind signature_ of `Rec`:"
   ]
  },
  {
   "cell_type": "code",
   "execution_count": 6,
   "metadata": {},
   "outputs": [
    {
     "data": {
      "text/html": [
       "<style>/* Styles used for the Hoogle display in the pager */\n",
       ".hoogle-doc {\n",
       "display: block;\n",
       "padding-bottom: 1.3em;\n",
       "padding-left: 0.4em;\n",
       "}\n",
       ".hoogle-code {\n",
       "display: block;\n",
       "font-family: monospace;\n",
       "white-space: pre;\n",
       "}\n",
       ".hoogle-text {\n",
       "display: block;\n",
       "}\n",
       ".hoogle-name {\n",
       "color: green;\n",
       "font-weight: bold;\n",
       "}\n",
       ".hoogle-head {\n",
       "font-weight: bold;\n",
       "}\n",
       ".hoogle-sub {\n",
       "display: block;\n",
       "margin-left: 0.4em;\n",
       "}\n",
       ".hoogle-package {\n",
       "font-weight: bold;\n",
       "font-style: italic;\n",
       "}\n",
       ".hoogle-module {\n",
       "font-weight: bold;\n",
       "}\n",
       ".hoogle-class {\n",
       "font-weight: bold;\n",
       "}\n",
       ".get-type {\n",
       "color: green;\n",
       "font-weight: bold;\n",
       "font-family: monospace;\n",
       "display: block;\n",
       "white-space: pre-wrap;\n",
       "}\n",
       ".show-type {\n",
       "color: green;\n",
       "font-weight: bold;\n",
       "font-family: monospace;\n",
       "margin-left: 1em;\n",
       "}\n",
       ".mono {\n",
       "font-family: monospace;\n",
       "display: block;\n",
       "}\n",
       ".err-msg {\n",
       "color: red;\n",
       "font-style: italic;\n",
       "font-family: monospace;\n",
       "white-space: pre;\n",
       "display: block;\n",
       "}\n",
       "#unshowable {\n",
       "color: red;\n",
       "font-weight: bold;\n",
       "}\n",
       ".err-msg.in.collapse {\n",
       "padding-top: 0.7em;\n",
       "}\n",
       ".highlight-code {\n",
       "white-space: pre;\n",
       "font-family: monospace;\n",
       "}\n",
       ".suggestion-warning { \n",
       "font-weight: bold;\n",
       "color: rgb(200, 130, 0);\n",
       "}\n",
       ".suggestion-error { \n",
       "font-weight: bold;\n",
       "color: red;\n",
       "}\n",
       ".suggestion-name {\n",
       "font-weight: bold;\n",
       "}\n",
       "</style><span class='get-type'>Rec :: forall u. (u -> *) -> [u] -> *</span>"
      ],
      "text/plain": [
       "Rec :: forall u. (u -> *) -> [u] -> *"
      ]
     },
     "metadata": {},
     "output_type": "display_data"
    }
   ],
   "source": [
    ":k Rec"
   ]
  },
  {
   "cell_type": "markdown",
   "metadata": {},
   "source": [
    "`Rec` is a type constructor, that means it builds new types on the fly, similar to the tuple operator `(,)`, and this is what we want.\n",
    "Note that this is _not_ a named type as `MyRecord`.\n",
    "But the kind signature of `Rec` looks weird.\n",
    "After what we have discussed, a record is basically a type level collection of fields, but the first argument of `Rec` is a type level _function_ `u -> *`.\n",
    "This means that it is a function from types of kind `u`, that is the types that are stored in the type level list, to types of kind `*` which just means any concrete type like `Int`, `String`, `MyRecord` and so on.\n",
    "This type level function is a powerful particularity of Vinyl.\n",
    "It is called the _Interpretation Functor_ and it allows to attach effects, or other values to the types that are stored in the record.\n",
    "For example, we could wrap all record values in a `Maybe` which means that they could also be `Nothing` in addition to the values of their type.\n",
    "To get started we chose the simplest type level function imaginable, the identiy, and import it.\n",
    "Be careful to use the one provided by Vinyl because it has some type classes attached to it that the equivalent one from `Data.Functor.Identity` doesn't have:"
   ]
  },
  {
   "cell_type": "code",
   "execution_count": 7,
   "metadata": {},
   "outputs": [],
   "source": [
    "import Data.Vinyl.Functor (Identity(Identity))"
   ]
  },
  {
   "cell_type": "markdown",
   "metadata": {},
   "source": [
    "Let's see how to construct an anonymous extensible record type:"
   ]
  },
  {
   "cell_type": "code",
   "execution_count": 8,
   "metadata": {},
   "outputs": [],
   "source": [
    "example1 :: Rec Identity [String, Int]\n",
    "example1 = Identity \"Bob\" :& Identity 22 :& RNil"
   ]
  },
  {
   "cell_type": "code",
   "execution_count": 9,
   "metadata": {},
   "outputs": [
    {
     "data": {
      "text/plain": [
       "{\"Bob\", 22}"
      ]
     },
     "metadata": {},
     "output_type": "display_data"
    }
   ],
   "source": [
    "example1"
   ]
  },
  {
   "cell_type": "markdown",
   "metadata": {},
   "source": [
    "The type level list corresponds to `MyRecord` although it doesn't have field names yet.\n",
    "But we can already append new fields to it:"
   ]
  },
  {
   "cell_type": "code",
   "execution_count": 10,
   "metadata": {},
   "outputs": [
    {
     "data": {
      "text/plain": [
       "{15, \"Bob\", 22}"
      ]
     },
     "metadata": {},
     "output_type": "display_data"
    }
   ],
   "source": [
    "Identity 15 :& example1"
   ]
  },
  {
   "cell_type": "markdown",
   "metadata": {},
   "source": [
    "What is amazing is that this is not simply a list with any number of elements.\n",
    "What we have got now is this type:"
   ]
  },
  {
   "cell_type": "code",
   "execution_count": 11,
   "metadata": {},
   "outputs": [
    {
     "data": {
      "text/html": [
       "<style>/* Styles used for the Hoogle display in the pager */\n",
       ".hoogle-doc {\n",
       "display: block;\n",
       "padding-bottom: 1.3em;\n",
       "padding-left: 0.4em;\n",
       "}\n",
       ".hoogle-code {\n",
       "display: block;\n",
       "font-family: monospace;\n",
       "white-space: pre;\n",
       "}\n",
       ".hoogle-text {\n",
       "display: block;\n",
       "}\n",
       ".hoogle-name {\n",
       "color: green;\n",
       "font-weight: bold;\n",
       "}\n",
       ".hoogle-head {\n",
       "font-weight: bold;\n",
       "}\n",
       ".hoogle-sub {\n",
       "display: block;\n",
       "margin-left: 0.4em;\n",
       "}\n",
       ".hoogle-package {\n",
       "font-weight: bold;\n",
       "font-style: italic;\n",
       "}\n",
       ".hoogle-module {\n",
       "font-weight: bold;\n",
       "}\n",
       ".hoogle-class {\n",
       "font-weight: bold;\n",
       "}\n",
       ".get-type {\n",
       "color: green;\n",
       "font-weight: bold;\n",
       "font-family: monospace;\n",
       "display: block;\n",
       "white-space: pre-wrap;\n",
       "}\n",
       ".show-type {\n",
       "color: green;\n",
       "font-weight: bold;\n",
       "font-family: monospace;\n",
       "margin-left: 1em;\n",
       "}\n",
       ".mono {\n",
       "font-family: monospace;\n",
       "display: block;\n",
       "}\n",
       ".err-msg {\n",
       "color: red;\n",
       "font-style: italic;\n",
       "font-family: monospace;\n",
       "white-space: pre;\n",
       "display: block;\n",
       "}\n",
       "#unshowable {\n",
       "color: red;\n",
       "font-weight: bold;\n",
       "}\n",
       ".err-msg.in.collapse {\n",
       "padding-top: 0.7em;\n",
       "}\n",
       ".highlight-code {\n",
       "white-space: pre;\n",
       "font-family: monospace;\n",
       "}\n",
       ".suggestion-warning { \n",
       "font-weight: bold;\n",
       "color: rgb(200, 130, 0);\n",
       "}\n",
       ".suggestion-error { \n",
       "font-weight: bold;\n",
       "color: red;\n",
       "}\n",
       ".suggestion-name {\n",
       "font-weight: bold;\n",
       "}\n",
       "</style><span class='get-type'>Identity 15 :& example1 :: forall r. Num r => Rec Identity '[r, String, Int]</span>"
      ],
      "text/plain": [
       "Identity 15 :& example1 :: forall r. Num r => Rec Identity '[r, String, Int]"
      ]
     },
     "metadata": {},
     "output_type": "display_data"
    }
   ],
   "source": [
    ":t Identity 15 :& example1"
   ]
  },
  {
   "cell_type": "markdown",
   "metadata": {},
   "source": [
    "But we can do more things.\n",
    "For example, we can select a subset of the original record _simply by specifying the type_ with the function rcast:"
   ]
  },
  {
   "cell_type": "code",
   "execution_count": 12,
   "metadata": {},
   "outputs": [
    {
     "data": {
      "text/plain": [
       "{22}"
      ]
     },
     "metadata": {},
     "output_type": "display_data"
    },
    {
     "data": {
      "text/plain": [
       "{\"Bob\"}"
      ]
     },
     "metadata": {},
     "output_type": "display_data"
    }
   ],
   "source": [
    "import Data.Vinyl (rcast)\n",
    "rcast example1 :: Rec Identity '[Int]\n",
    "rcast example1 :: Rec Identity '[String]"
   ]
  },
  {
   "cell_type": "markdown",
   "metadata": {},
   "source": [
    "If we try to access a member of the collection that doesn't exist, we get a compile time error:"
   ]
  },
  {
   "cell_type": "code",
   "execution_count": 13,
   "metadata": {},
   "outputs": [
    {
     "ename": "",
     "evalue": "",
     "header": "MessageHeader {mhIdentifiers = [\"a0e4f46c-cc64-4a19-b12d-9f1d3cc9c657\"], mhParentHeader = Just (MessageHeader {mhIdentifiers = [\"a0e4f46c-cc64-4a19-b12d-9f1d3cc9c657\"], mhParentHeader = Nothing, mhMetadata = Metadata (fromList [(\"recordTiming\",Bool False),(\"deletedCells\",Array []),(\"cellId\",String \"d331e89d-2f3b-4836-bbbe-282a67d45f39\")]), mhMessageId = UUID {uuidToString = \"09a76cf6-7d88-42dc-b0b9-08310258e8e5\"}, mhSessionId = UUID {uuidToString = \"a0e4f46c-cc64-4a19-b12d-9f1d3cc9c657\"}, mhUsername = \"\", mhMsgType = ExecuteRequestMessage, mhBuffers = []}), mhMetadata = Metadata (fromList []), mhMessageId = UUID {uuidToString = \"ddc072db-ffa2-4992-aed2-b90f111f99b0\"}, mhSessionId = UUID {uuidToString = \"a0e4f46c-cc64-4a19-b12d-9f1d3cc9c657\"}, mhUsername = \"\", mhMsgType = ExecuteErrorMessage, mhBuffers = []}",
     "output_type": "error",
     "traceback": [
      "<interactive>:1:1: error:\n    • No instance for (Data.Vinyl.Lens.RecElem Rec Char Char '[] '[] (Data.Vinyl.TypeLevel.RIndex Char '[])) arising from a use of ‘rcast’\n    • In the expression: rcast example1 :: Rec Identity 'String\n      In an equation for ‘it’: it = rcast example1 :: Rec Identity 'String"
     ]
    }
   ],
   "source": [
    "rcast example1 :: Rec Identity '[Char]"
   ]
  },
  {
   "cell_type": "markdown",
   "metadata": {},
   "source": [
    "Afterall that's where type checking happens.\n",
    "But we are now slowly reaching the limits of a simple collection of fields.\n",
    "What happens if two fields have the same type?\n",
    "Defining such a type works well:"
   ]
  },
  {
   "cell_type": "code",
   "execution_count": 14,
   "metadata": {},
   "outputs": [],
   "source": [
    "example2 :: Rec Identity [String, String]\n",
    "example2 = Identity \"Mister\" :& Identity \"Bob\" :& RNil"
   ]
  },
  {
   "cell_type": "code",
   "execution_count": 15,
   "metadata": {},
   "outputs": [
    {
     "data": {
      "text/plain": [
       "{\"Mister\", \"Bob\"}"
      ]
     },
     "metadata": {},
     "output_type": "display_data"
    }
   ],
   "source": [
    "example2"
   ]
  },
  {
   "cell_type": "markdown",
   "metadata": {},
   "source": [
    "But selecting subsets reaches its limits:"
   ]
  },
  {
   "cell_type": "code",
   "execution_count": 16,
   "metadata": {},
   "outputs": [
    {
     "data": {
      "text/plain": [
       "{\"Bob\"}"
      ]
     },
     "metadata": {},
     "output_type": "display_data"
    }
   ],
   "source": [
    "rcast example1 :: Rec Identity '[String]"
   ]
  },
  {
   "cell_type": "markdown",
   "metadata": {},
   "source": [
    "This is what we need _named_ fields for, and that requires type level strings called \"Symbols\" in Haskell."
   ]
  },
  {
   "cell_type": "markdown",
   "metadata": {},
   "source": [
    "## Playing with the Interpretation Functor\n",
    "\n",
    "Thus far we have left the interpretation functor a simple `Identity`.\n",
    "This meant that the types that are stored in the type level list, are also interpreted as what they are.\n",
    "But what can we do if we change this?"
   ]
  },
  {
   "cell_type": "code",
   "execution_count": 17,
   "metadata": {},
   "outputs": [
    {
     "data": {
      "text/plain": [
       "{Just \"Bob\", Nothing}"
      ]
     },
     "metadata": {},
     "output_type": "display_data"
    }
   ],
   "source": [
    "example3 :: Rec Maybe [String, Int]\n",
    "example3 = Just \"Bob\" :& Nothing :& RNil\n",
    "\n",
    "example3"
   ]
  },
  {
   "cell_type": "markdown",
   "metadata": {},
   "source": [
    "Recall the kind signature of `Rec` and the type signature of the constructor `:&` and `RNil`:"
   ]
  },
  {
   "cell_type": "code",
   "execution_count": 18,
   "metadata": {},
   "outputs": [
    {
     "data": {
      "text/html": [
       "<style>/* Styles used for the Hoogle display in the pager */\n",
       ".hoogle-doc {\n",
       "display: block;\n",
       "padding-bottom: 1.3em;\n",
       "padding-left: 0.4em;\n",
       "}\n",
       ".hoogle-code {\n",
       "display: block;\n",
       "font-family: monospace;\n",
       "white-space: pre;\n",
       "}\n",
       ".hoogle-text {\n",
       "display: block;\n",
       "}\n",
       ".hoogle-name {\n",
       "color: green;\n",
       "font-weight: bold;\n",
       "}\n",
       ".hoogle-head {\n",
       "font-weight: bold;\n",
       "}\n",
       ".hoogle-sub {\n",
       "display: block;\n",
       "margin-left: 0.4em;\n",
       "}\n",
       ".hoogle-package {\n",
       "font-weight: bold;\n",
       "font-style: italic;\n",
       "}\n",
       ".hoogle-module {\n",
       "font-weight: bold;\n",
       "}\n",
       ".hoogle-class {\n",
       "font-weight: bold;\n",
       "}\n",
       ".get-type {\n",
       "color: green;\n",
       "font-weight: bold;\n",
       "font-family: monospace;\n",
       "display: block;\n",
       "white-space: pre-wrap;\n",
       "}\n",
       ".show-type {\n",
       "color: green;\n",
       "font-weight: bold;\n",
       "font-family: monospace;\n",
       "margin-left: 1em;\n",
       "}\n",
       ".mono {\n",
       "font-family: monospace;\n",
       "display: block;\n",
       "}\n",
       ".err-msg {\n",
       "color: red;\n",
       "font-style: italic;\n",
       "font-family: monospace;\n",
       "white-space: pre;\n",
       "display: block;\n",
       "}\n",
       "#unshowable {\n",
       "color: red;\n",
       "font-weight: bold;\n",
       "}\n",
       ".err-msg.in.collapse {\n",
       "padding-top: 0.7em;\n",
       "}\n",
       ".highlight-code {\n",
       "white-space: pre;\n",
       "font-family: monospace;\n",
       "}\n",
       ".suggestion-warning { \n",
       "font-weight: bold;\n",
       "color: rgb(200, 130, 0);\n",
       "}\n",
       ".suggestion-error { \n",
       "font-weight: bold;\n",
       "color: red;\n",
       "}\n",
       ".suggestion-name {\n",
       "font-weight: bold;\n",
       "}\n",
       "</style><span class='get-type'>Rec :: forall u. (u -> *) -> [u] -> *</span>"
      ],
      "text/plain": [
       "Rec :: forall u. (u -> *) -> [u] -> *"
      ]
     },
     "metadata": {},
     "output_type": "display_data"
    }
   ],
   "source": [
    ":k Rec"
   ]
  },
  {
   "cell_type": "markdown",
   "metadata": {},
   "source": [
    "What corresponds to what in our example above?\n",
    "First we have `Maybe ~ (u -> *)` that maps types of kind `u` to concrete types.\n",
    "Then we have `[String, Int] ~ [u]`, and because `String` and `Int` are just of kind `*` we see that `u ~ *`.\n",
    "So we really have a Functor `Maybe :: * -> *` here that wraps our concrete types into another, enriched concrete type.\n",
    "In this case, the enrichment just means that we have access to an extra value `Nothing` besides the values of the type itself.\n",
    "Let's look at the constructor now:"
   ]
  },
  {
   "cell_type": "code",
   "execution_count": 19,
   "metadata": {},
   "outputs": [
    {
     "data": {
      "text/html": [
       "<style>/* Styles used for the Hoogle display in the pager */\n",
       ".hoogle-doc {\n",
       "display: block;\n",
       "padding-bottom: 1.3em;\n",
       "padding-left: 0.4em;\n",
       "}\n",
       ".hoogle-code {\n",
       "display: block;\n",
       "font-family: monospace;\n",
       "white-space: pre;\n",
       "}\n",
       ".hoogle-text {\n",
       "display: block;\n",
       "}\n",
       ".hoogle-name {\n",
       "color: green;\n",
       "font-weight: bold;\n",
       "}\n",
       ".hoogle-head {\n",
       "font-weight: bold;\n",
       "}\n",
       ".hoogle-sub {\n",
       "display: block;\n",
       "margin-left: 0.4em;\n",
       "}\n",
       ".hoogle-package {\n",
       "font-weight: bold;\n",
       "font-style: italic;\n",
       "}\n",
       ".hoogle-module {\n",
       "font-weight: bold;\n",
       "}\n",
       ".hoogle-class {\n",
       "font-weight: bold;\n",
       "}\n",
       ".get-type {\n",
       "color: green;\n",
       "font-weight: bold;\n",
       "font-family: monospace;\n",
       "display: block;\n",
       "white-space: pre-wrap;\n",
       "}\n",
       ".show-type {\n",
       "color: green;\n",
       "font-weight: bold;\n",
       "font-family: monospace;\n",
       "margin-left: 1em;\n",
       "}\n",
       ".mono {\n",
       "font-family: monospace;\n",
       "display: block;\n",
       "}\n",
       ".err-msg {\n",
       "color: red;\n",
       "font-style: italic;\n",
       "font-family: monospace;\n",
       "white-space: pre;\n",
       "display: block;\n",
       "}\n",
       "#unshowable {\n",
       "color: red;\n",
       "font-weight: bold;\n",
       "}\n",
       ".err-msg.in.collapse {\n",
       "padding-top: 0.7em;\n",
       "}\n",
       ".highlight-code {\n",
       "white-space: pre;\n",
       "font-family: monospace;\n",
       "}\n",
       ".suggestion-warning { \n",
       "font-weight: bold;\n",
       "color: rgb(200, 130, 0);\n",
       "}\n",
       ".suggestion-error { \n",
       "font-weight: bold;\n",
       "color: red;\n",
       "}\n",
       ".suggestion-name {\n",
       "font-weight: bold;\n",
       "}\n",
       "</style><span class='get-type'>RNil :: forall (a :: * -> *). Rec a '[]</span>"
      ],
      "text/plain": [
       "RNil :: forall (a :: * -> *). Rec a '[]"
      ]
     },
     "metadata": {},
     "output_type": "display_data"
    },
    {
     "data": {
      "text/html": [
       "<style>/* Styles used for the Hoogle display in the pager */\n",
       ".hoogle-doc {\n",
       "display: block;\n",
       "padding-bottom: 1.3em;\n",
       "padding-left: 0.4em;\n",
       "}\n",
       ".hoogle-code {\n",
       "display: block;\n",
       "font-family: monospace;\n",
       "white-space: pre;\n",
       "}\n",
       ".hoogle-text {\n",
       "display: block;\n",
       "}\n",
       ".hoogle-name {\n",
       "color: green;\n",
       "font-weight: bold;\n",
       "}\n",
       ".hoogle-head {\n",
       "font-weight: bold;\n",
       "}\n",
       ".hoogle-sub {\n",
       "display: block;\n",
       "margin-left: 0.4em;\n",
       "}\n",
       ".hoogle-package {\n",
       "font-weight: bold;\n",
       "font-style: italic;\n",
       "}\n",
       ".hoogle-module {\n",
       "font-weight: bold;\n",
       "}\n",
       ".hoogle-class {\n",
       "font-weight: bold;\n",
       "}\n",
       ".get-type {\n",
       "color: green;\n",
       "font-weight: bold;\n",
       "font-family: monospace;\n",
       "display: block;\n",
       "white-space: pre-wrap;\n",
       "}\n",
       ".show-type {\n",
       "color: green;\n",
       "font-weight: bold;\n",
       "font-family: monospace;\n",
       "margin-left: 1em;\n",
       "}\n",
       ".mono {\n",
       "font-family: monospace;\n",
       "display: block;\n",
       "}\n",
       ".err-msg {\n",
       "color: red;\n",
       "font-style: italic;\n",
       "font-family: monospace;\n",
       "white-space: pre;\n",
       "display: block;\n",
       "}\n",
       "#unshowable {\n",
       "color: red;\n",
       "font-weight: bold;\n",
       "}\n",
       ".err-msg.in.collapse {\n",
       "padding-top: 0.7em;\n",
       "}\n",
       ".highlight-code {\n",
       "white-space: pre;\n",
       "font-family: monospace;\n",
       "}\n",
       ".suggestion-warning { \n",
       "font-weight: bold;\n",
       "color: rgb(200, 130, 0);\n",
       "}\n",
       ".suggestion-error { \n",
       "font-weight: bold;\n",
       "color: red;\n",
       "}\n",
       ".suggestion-name {\n",
       "font-weight: bold;\n",
       "}\n",
       "</style><span class='get-type'>(:&) :: forall (a :: * -> *) r (rs :: [*]). a r -> Rec a rs -> Rec a (r : rs)</span>"
      ],
      "text/plain": [
       "(:&) :: forall (a :: * -> *) r (rs :: [*]). a r -> Rec a rs -> Rec a (r : rs)"
      ]
     },
     "metadata": {},
     "output_type": "display_data"
    }
   ],
   "source": [
    ":t RNil\n",
    ":t (:&)"
   ]
  },
  {
   "cell_type": "markdown",
   "metadata": {},
   "source": [
    "`RNil` is simple to understand.\n",
    "It stands for an empty record with arbitrary Functor `a` that can be determined via type inference.\n",
    "`(:&)`, the cons operator, is only a bit more involved.\n",
    "It takes `a r`, a value `r` wrapped in a functor `a`, and attaches it to an existing `Rec` with the same functor `a`.\n",
    "That's why we need to wrap even pure values into an `Identity` functor on construction.\n",
    "We are now ready to understand named fields that are probably most important use case."
   ]
  },
  {
   "cell_type": "markdown",
   "metadata": {},
   "source": [
    "## Named Fields\n",
    "\n",
    "Key to understanding records with named fields is the Functor `ElField` that we import like this, together with the operator `:::` whose meaning will become clear in the following:"
   ]
  },
  {
   "cell_type": "code",
   "execution_count": 20,
   "metadata": {},
   "outputs": [],
   "source": [
    "import Data.Vinyl ((:::), ElField(Field))"
   ]
  },
  {
   "cell_type": "markdown",
   "metadata": {},
   "source": [
    "And here is how these are used:"
   ]
  },
  {
   "cell_type": "code",
   "execution_count": 21,
   "metadata": {},
   "outputs": [],
   "source": [
    "example2 :: Rec ElField [\"name\" ::: String, \"age\" ::: Int]\n",
    "example2 = Field \"Bob\" :& Field 22 :& RNil"
   ]
  },
  {
   "cell_type": "code",
   "execution_count": 22,
   "metadata": {},
   "outputs": [
    {
     "data": {
      "text/plain": [
       "{name :-> \"Bob\", age :-> 22}"
      ]
     },
     "metadata": {},
     "output_type": "display_data"
    }
   ],
   "source": [
    "example2"
   ]
  },
  {
   "cell_type": "markdown",
   "metadata": {},
   "source": [
    "To understand how this works, let's look at the kind signature of `:::` first:"
   ]
  },
  {
   "cell_type": "code",
   "execution_count": 23,
   "metadata": {},
   "outputs": [
    {
     "data": {
      "text/html": [
       "<style>/* Styles used for the Hoogle display in the pager */\n",
       ".hoogle-doc {\n",
       "display: block;\n",
       "padding-bottom: 1.3em;\n",
       "padding-left: 0.4em;\n",
       "}\n",
       ".hoogle-code {\n",
       "display: block;\n",
       "font-family: monospace;\n",
       "white-space: pre;\n",
       "}\n",
       ".hoogle-text {\n",
       "display: block;\n",
       "}\n",
       ".hoogle-name {\n",
       "color: green;\n",
       "font-weight: bold;\n",
       "}\n",
       ".hoogle-head {\n",
       "font-weight: bold;\n",
       "}\n",
       ".hoogle-sub {\n",
       "display: block;\n",
       "margin-left: 0.4em;\n",
       "}\n",
       ".hoogle-package {\n",
       "font-weight: bold;\n",
       "font-style: italic;\n",
       "}\n",
       ".hoogle-module {\n",
       "font-weight: bold;\n",
       "}\n",
       ".hoogle-class {\n",
       "font-weight: bold;\n",
       "}\n",
       ".get-type {\n",
       "color: green;\n",
       "font-weight: bold;\n",
       "font-family: monospace;\n",
       "display: block;\n",
       "white-space: pre-wrap;\n",
       "}\n",
       ".show-type {\n",
       "color: green;\n",
       "font-weight: bold;\n",
       "font-family: monospace;\n",
       "margin-left: 1em;\n",
       "}\n",
       ".mono {\n",
       "font-family: monospace;\n",
       "display: block;\n",
       "}\n",
       ".err-msg {\n",
       "color: red;\n",
       "font-style: italic;\n",
       "font-family: monospace;\n",
       "white-space: pre;\n",
       "display: block;\n",
       "}\n",
       "#unshowable {\n",
       "color: red;\n",
       "font-weight: bold;\n",
       "}\n",
       ".err-msg.in.collapse {\n",
       "padding-top: 0.7em;\n",
       "}\n",
       ".highlight-code {\n",
       "white-space: pre;\n",
       "font-family: monospace;\n",
       "}\n",
       ".suggestion-warning { \n",
       "font-weight: bold;\n",
       "color: rgb(200, 130, 0);\n",
       "}\n",
       ".suggestion-error { \n",
       "font-weight: bold;\n",
       "color: red;\n",
       "}\n",
       ".suggestion-name {\n",
       "font-weight: bold;\n",
       "}\n",
       "</style><span class='get-type'>(:::) :: forall k k1. k -> k1 -> (k, k1)</span>"
      ],
      "text/plain": [
       "(:::) :: forall k k1. k -> k1 -> (k, k1)"
      ]
     },
     "metadata": {},
     "output_type": "display_data"
    }
   ],
   "source": [
    ":k (:::)"
   ]
  },
  {
   "cell_type": "markdown",
   "metadata": {},
   "source": [
    "This type operator takes a type of kind `k` and a type of kind `k1` and puts them together in a type level tuple, that is a new type with its own kind.\n",
    "This tuple is defined by a datatype and a type level string aka Symbol.\n",
    "In our case this means that we build `(\"Name\", String)` and `(\"Age\", Int)` as type level tuples that live in our record.\n",
    "We now make use of the interpretation functor, in this case `Elfield`.\n",
    "Its kind signature looks like this:"
   ]
  },
  {
   "cell_type": "code",
   "execution_count": 24,
   "metadata": {},
   "outputs": [
    {
     "data": {
      "text/html": [
       "<style>/* Styles used for the Hoogle display in the pager */\n",
       ".hoogle-doc {\n",
       "display: block;\n",
       "padding-bottom: 1.3em;\n",
       "padding-left: 0.4em;\n",
       "}\n",
       ".hoogle-code {\n",
       "display: block;\n",
       "font-family: monospace;\n",
       "white-space: pre;\n",
       "}\n",
       ".hoogle-text {\n",
       "display: block;\n",
       "}\n",
       ".hoogle-name {\n",
       "color: green;\n",
       "font-weight: bold;\n",
       "}\n",
       ".hoogle-head {\n",
       "font-weight: bold;\n",
       "}\n",
       ".hoogle-sub {\n",
       "display: block;\n",
       "margin-left: 0.4em;\n",
       "}\n",
       ".hoogle-package {\n",
       "font-weight: bold;\n",
       "font-style: italic;\n",
       "}\n",
       ".hoogle-module {\n",
       "font-weight: bold;\n",
       "}\n",
       ".hoogle-class {\n",
       "font-weight: bold;\n",
       "}\n",
       ".get-type {\n",
       "color: green;\n",
       "font-weight: bold;\n",
       "font-family: monospace;\n",
       "display: block;\n",
       "white-space: pre-wrap;\n",
       "}\n",
       ".show-type {\n",
       "color: green;\n",
       "font-weight: bold;\n",
       "font-family: monospace;\n",
       "margin-left: 1em;\n",
       "}\n",
       ".mono {\n",
       "font-family: monospace;\n",
       "display: block;\n",
       "}\n",
       ".err-msg {\n",
       "color: red;\n",
       "font-style: italic;\n",
       "font-family: monospace;\n",
       "white-space: pre;\n",
       "display: block;\n",
       "}\n",
       "#unshowable {\n",
       "color: red;\n",
       "font-weight: bold;\n",
       "}\n",
       ".err-msg.in.collapse {\n",
       "padding-top: 0.7em;\n",
       "}\n",
       ".highlight-code {\n",
       "white-space: pre;\n",
       "font-family: monospace;\n",
       "}\n",
       ".suggestion-warning { \n",
       "font-weight: bold;\n",
       "color: rgb(200, 130, 0);\n",
       "}\n",
       ".suggestion-error { \n",
       "font-weight: bold;\n",
       "color: red;\n",
       "}\n",
       ".suggestion-name {\n",
       "font-weight: bold;\n",
       "}\n",
       "</style><span class='get-type'>ElField :: (Symbol, *) -> *</span>"
      ],
      "text/plain": [
       "ElField :: (Symbol, *) -> *"
      ]
     },
     "metadata": {},
     "output_type": "display_data"
    }
   ],
   "source": [
    ":k ElField"
   ]
  },
  {
   "cell_type": "markdown",
   "metadata": {},
   "source": [
    "Remember, it is a type level function with kind signature `u -> *` where `u` corresponds to the kind that is stored in the record, a type level tuple with a symbol as its first and a concrete type as its second element.\n",
    "Elfield wraps these exotic types and returns another enriched concrete type, similar to Maybe that wraps a concrete type and returns an enriched concrete type.\n",
    "Elfields can be constructed with the unique `Field` constructor:"
   ]
  },
  {
   "cell_type": "code",
   "execution_count": 25,
   "metadata": {},
   "outputs": [
    {
     "data": {
      "text/html": [
       "<style>/* Styles used for the Hoogle display in the pager */\n",
       ".hoogle-doc {\n",
       "display: block;\n",
       "padding-bottom: 1.3em;\n",
       "padding-left: 0.4em;\n",
       "}\n",
       ".hoogle-code {\n",
       "display: block;\n",
       "font-family: monospace;\n",
       "white-space: pre;\n",
       "}\n",
       ".hoogle-text {\n",
       "display: block;\n",
       "}\n",
       ".hoogle-name {\n",
       "color: green;\n",
       "font-weight: bold;\n",
       "}\n",
       ".hoogle-head {\n",
       "font-weight: bold;\n",
       "}\n",
       ".hoogle-sub {\n",
       "display: block;\n",
       "margin-left: 0.4em;\n",
       "}\n",
       ".hoogle-package {\n",
       "font-weight: bold;\n",
       "font-style: italic;\n",
       "}\n",
       ".hoogle-module {\n",
       "font-weight: bold;\n",
       "}\n",
       ".hoogle-class {\n",
       "font-weight: bold;\n",
       "}\n",
       ".get-type {\n",
       "color: green;\n",
       "font-weight: bold;\n",
       "font-family: monospace;\n",
       "display: block;\n",
       "white-space: pre-wrap;\n",
       "}\n",
       ".show-type {\n",
       "color: green;\n",
       "font-weight: bold;\n",
       "font-family: monospace;\n",
       "margin-left: 1em;\n",
       "}\n",
       ".mono {\n",
       "font-family: monospace;\n",
       "display: block;\n",
       "}\n",
       ".err-msg {\n",
       "color: red;\n",
       "font-style: italic;\n",
       "font-family: monospace;\n",
       "white-space: pre;\n",
       "display: block;\n",
       "}\n",
       "#unshowable {\n",
       "color: red;\n",
       "font-weight: bold;\n",
       "}\n",
       ".err-msg.in.collapse {\n",
       "padding-top: 0.7em;\n",
       "}\n",
       ".highlight-code {\n",
       "white-space: pre;\n",
       "font-family: monospace;\n",
       "}\n",
       ".suggestion-warning { \n",
       "font-weight: bold;\n",
       "color: rgb(200, 130, 0);\n",
       "}\n",
       ".suggestion-error { \n",
       "font-weight: bold;\n",
       "color: red;\n",
       "}\n",
       ".suggestion-name {\n",
       "font-weight: bold;\n",
       "}\n",
       "</style><span class='get-type'>Field :: forall (s :: Symbol) t. KnownSymbol s => t -> ElField '(s, t)</span>"
      ],
      "text/plain": [
       "Field :: forall (s :: Symbol) t. KnownSymbol s => t -> ElField '(s, t)"
      ]
     },
     "metadata": {},
     "output_type": "display_data"
    }
   ],
   "source": [
    ":t Field"
   ]
  },
  {
   "cell_type": "markdown",
   "metadata": {},
   "source": [
    "It takes a value and attaches it with a type level symbol.\n",
    "In our construction above, this type level symbol is automatically determined via type inference.\n",
    "Let's try to specify it on our own:"
   ]
  },
  {
   "cell_type": "code",
   "execution_count": 26,
   "metadata": {},
   "outputs": [
    {
     "data": {
      "text/plain": [
       "{name :-> \"Bob\", age :-> 22}"
      ]
     },
     "metadata": {},
     "output_type": "display_data"
    },
    {
     "data": {
      "text/html": [
       "<style>/* Styles used for the Hoogle display in the pager */\n",
       ".hoogle-doc {\n",
       "display: block;\n",
       "padding-bottom: 1.3em;\n",
       "padding-left: 0.4em;\n",
       "}\n",
       ".hoogle-code {\n",
       "display: block;\n",
       "font-family: monospace;\n",
       "white-space: pre;\n",
       "}\n",
       ".hoogle-text {\n",
       "display: block;\n",
       "}\n",
       ".hoogle-name {\n",
       "color: green;\n",
       "font-weight: bold;\n",
       "}\n",
       ".hoogle-head {\n",
       "font-weight: bold;\n",
       "}\n",
       ".hoogle-sub {\n",
       "display: block;\n",
       "margin-left: 0.4em;\n",
       "}\n",
       ".hoogle-package {\n",
       "font-weight: bold;\n",
       "font-style: italic;\n",
       "}\n",
       ".hoogle-module {\n",
       "font-weight: bold;\n",
       "}\n",
       ".hoogle-class {\n",
       "font-weight: bold;\n",
       "}\n",
       ".get-type {\n",
       "color: green;\n",
       "font-weight: bold;\n",
       "font-family: monospace;\n",
       "display: block;\n",
       "white-space: pre-wrap;\n",
       "}\n",
       ".show-type {\n",
       "color: green;\n",
       "font-weight: bold;\n",
       "font-family: monospace;\n",
       "margin-left: 1em;\n",
       "}\n",
       ".mono {\n",
       "font-family: monospace;\n",
       "display: block;\n",
       "}\n",
       ".err-msg {\n",
       "color: red;\n",
       "font-style: italic;\n",
       "font-family: monospace;\n",
       "white-space: pre;\n",
       "display: block;\n",
       "}\n",
       "#unshowable {\n",
       "color: red;\n",
       "font-weight: bold;\n",
       "}\n",
       ".err-msg.in.collapse {\n",
       "padding-top: 0.7em;\n",
       "}\n",
       ".highlight-code {\n",
       "white-space: pre;\n",
       "font-family: monospace;\n",
       "}\n",
       ".suggestion-warning { \n",
       "font-weight: bold;\n",
       "color: rgb(200, 130, 0);\n",
       "}\n",
       ".suggestion-error { \n",
       "font-weight: bold;\n",
       "color: red;\n",
       "}\n",
       ".suggestion-name {\n",
       "font-weight: bold;\n",
       "}\n",
       "</style><span class='get-type'>example4 :: Rec ElField '[ '(\"name\", String), '(\"age\", Int)]</span>"
      ],
      "text/plain": [
       "example4 :: Rec ElField '[ '(\"name\", String), '(\"age\", Int)]"
      ]
     },
     "metadata": {},
     "output_type": "display_data"
    }
   ],
   "source": [
    "example4 = (Field \"Bob\" :: ElField '(\"name\", String)) :& (Field 22 :: ElField '(\"age\", Int)) :& RNil\n",
    "example4\n",
    ":t example4"
   ]
  },
  {
   "cell_type": "markdown",
   "metadata": {},
   "source": [
    "Cool, this works!\n",
    "Let's see if we can still select subrecords:"
   ]
  },
  {
   "cell_type": "code",
   "execution_count": 27,
   "metadata": {},
   "outputs": [
    {
     "data": {
      "text/plain": [
       "{name :-> \"Bob\"}"
      ]
     },
     "metadata": {},
     "output_type": "display_data"
    }
   ],
   "source": [
    "rcast example2 :: Rec ElField '[\"name\" ::: String]"
   ]
  },
  {
   "cell_type": "code",
   "execution_count": 28,
   "metadata": {},
   "outputs": [],
   "source": [
    ":ext FlexibleContexts\n",
    "import Data.Vinyl (rput, (=:))\n",
    "example3 = rput (Field (\"Alice\") :: ElField (\"name\" ::: String)) example2"
   ]
  },
  {
   "cell_type": "code",
   "execution_count": 29,
   "metadata": {},
   "outputs": [
    {
     "data": {
      "text/plain": [
       "{name :-> \"Alice\", age :-> 22}"
      ]
     },
     "metadata": {},
     "output_type": "display_data"
    }
   ],
   "source": [
    "example3"
   ]
  },
  {
   "cell_type": "code",
   "execution_count": 30,
   "metadata": {},
   "outputs": [
    {
     "data": {
      "text/plain": [
       "{name :-> \"Martha\", age :-> 22}"
      ]
     },
     "metadata": {},
     "output_type": "display_data"
    }
   ],
   "source": [
    ":ext OverloadedLabels\n",
    ":ext TypeFamilies\n",
    "import Data.Vinyl (rputf)\n",
    "example4 = rputf #name \"Martha\" example2\n",
    "example4"
   ]
  },
  {
   "cell_type": "markdown",
   "metadata": {},
   "source": [
    "## Construction Frenzy"
   ]
  },
  {
   "cell_type": "code",
   "execution_count": 31,
   "metadata": {},
   "outputs": [
    {
     "data": {
      "text/plain": [
       "{name :-> \"mat\", age :-> 32}"
      ]
     },
     "metadata": {},
     "output_type": "display_data"
    }
   ],
   "source": [
    "import Data.Vinyl (FieldRec)\n",
    "\n",
    "t :: FieldRec [\"name\" ::: String, \"age\" ::: Int]\n",
    "t = Field \"mat\" :& Field 32 :& RNil\n",
    "t"
   ]
  },
  {
   "cell_type": "code",
   "execution_count": 32,
   "metadata": {},
   "outputs": [
    {
     "data": {
      "text/plain": [
       "{name :-> \"mat\", age :-> 32}"
      ]
     },
     "metadata": {},
     "output_type": "display_data"
    }
   ],
   "source": [
    "import Data.Vinyl (xrec)\n",
    "\n",
    "t :: FieldRec [\"name\" ::: String, \"age\" ::: Int]\n",
    "t = xrec (\"mat\", 32)\n",
    "t"
   ]
  },
  {
   "cell_type": "code",
   "execution_count": 33,
   "metadata": {},
   "outputs": [
    {
     "data": {
      "text/plain": [
       "{name :-> \"Joe\", age :-> 23}"
      ]
     },
     "metadata": {},
     "output_type": "display_data"
    }
   ],
   "source": [
    "import Data.Vinyl.FromTuple (namedArgs)\n",
    "\n",
    "t :: FieldRec [\"name\" ::: String, \"age\" ::: Int]\n",
    "t = namedArgs (#age =: (23 :: Int), #name =: \"Joe\")\n",
    "t"
   ]
  },
  {
   "cell_type": "code",
   "execution_count": 34,
   "metadata": {},
   "outputs": [
    {
     "data": {
      "text/plain": [
       "{name :-> \"Joe\", age :-> 23}"
      ]
     },
     "metadata": {},
     "output_type": "display_data"
    }
   ],
   "source": [
    ":ext OverloadedStrings\n",
    "\n",
    "import Data.Text (Text)\n",
    "import Data.Aeson (object, FromJSON(parseJSON), withObject, (.:), Value, (.=))\n",
    "import Data.Aeson.Types (Parser, parseEither)\n",
    "\n",
    "t :: FieldRec [\"name\" ::: String, \"age\" ::: Int]\n",
    "t = case fromObject $ object [ \"age\" .= (23 :: Int), \"name\" .= (\"Joe\" :: Text) ] of\n",
    "        Right x -> x\n",
    "        Left _ -> error \"couldn't convert record\"\n",
    "    where\n",
    "      fromObject = parseEither $ withObject \"Record\" $ \\o -> do\n",
    "         age <- o .: \"age\"\n",
    "         name <- o .: \"name\"\n",
    "         return $ namedArgs (#age =: (age :: Int), #name =: (name :: String))\n",
    "\n",
    "t"
   ]
  },
  {
   "cell_type": "markdown",
   "metadata": {},
   "source": [
    "## Deconstruction Frenzy (?)\n",
    "\n",
    "How about deconstructing a record?\n",
    "Here is the straight forward approach:"
   ]
  },
  {
   "cell_type": "code",
   "execution_count": 35,
   "metadata": {},
   "outputs": [
    {
     "data": {
      "text/plain": [
       "{\"23\", \"\\\"joe\\\"\"}"
      ]
     },
     "metadata": {},
     "output_type": "display_data"
    }
   ],
   "source": [
    "trans1 :: Rec Identity '[Int, String] -> Rec Identity '[String, String]\n",
    "trans1 (Identity a :& Identity b :& RNil) = Identity (show a) :& Identity (show b) :& RNil\n",
    "\n",
    "trans1 $ xrec (23, \"joe\")"
   ]
  },
  {
   "cell_type": "markdown",
   "metadata": {},
   "source": [
    "## Functions over records\n",
    "\n",
    "You'd hope that mapping over a record is as simple as using `<$>` but unfortunately it isn't.\n",
    "This is largely due to the fact that we are dealing with a _heterogeneous_ collection of elements here.\n",
    "The function that is applied over the record thus changes its type depending on the element it is applied to."
   ]
  },
  {
   "cell_type": "code",
   "execution_count": 36,
   "metadata": {},
   "outputs": [
    {
     "data": {
      "text/plain": [
       "{a :-> 1.0, b :-> 1}"
      ]
     },
     "metadata": {},
     "output_type": "display_data"
    }
   ],
   "source": [
    "import Data.Vinyl.Class.Method (mapFields)\n",
    "import Data.Vinyl (rmap)\n",
    "\n",
    "t = xrec (1.0, 1) :: FieldRec [\"a\" ::: Double, \"b\" ::: Int]\n",
    "t"
   ]
  },
  {
   "cell_type": "markdown",
   "metadata": {},
   "source": [
    "## Mapping over Records (or Playing with the Interpretation Functor 2)\n",
    "\n",
    "Since this is slightly more involved, we'll go through two examples.\n",
    "Let's start with serializing records to JSON.\n",
    "Say we know how to serialize each individual `ElField` in the record.\n",
    "This can, for example be implemented with this type class:"
   ]
  },
  {
   "cell_type": "code",
   "execution_count": 37,
   "metadata": {},
   "outputs": [],
   "source": [
    "import Data.Aeson (ToJSON(toJSON))\n",
    "\n",
    "instance ToJSON a => ToJSON (Identity a) where\n",
    "  toJSON (Identity x) = toJSON x"
   ]
  },
  {
   "cell_type": "markdown",
   "metadata": {},
   "source": [
    "Now how do we cannot simply map this function over the fields"
   ]
  },
  {
   "cell_type": "code",
   "execution_count": 38,
   "metadata": {},
   "outputs": [
    {
     "ename": "",
     "evalue": "",
     "header": "MessageHeader {mhIdentifiers = [\"a0e4f46c-cc64-4a19-b12d-9f1d3cc9c657\"], mhParentHeader = Just (MessageHeader {mhIdentifiers = [\"a0e4f46c-cc64-4a19-b12d-9f1d3cc9c657\"], mhParentHeader = Nothing, mhMetadata = Metadata (fromList [(\"recordTiming\",Bool False),(\"deletedCells\",Array []),(\"cellId\",String \"df252ed7-241b-4aed-8227-236948fb5eda\")]), mhMessageId = UUID {uuidToString = \"c67a2259-4533-4d80-850a-9b56d650103f\"}, mhSessionId = UUID {uuidToString = \"a0e4f46c-cc64-4a19-b12d-9f1d3cc9c657\"}, mhUsername = \"\", mhMsgType = ExecuteRequestMessage, mhBuffers = []}), mhMetadata = Metadata (fromList []), mhMessageId = UUID {uuidToString = \"1bae6620-9673-40e4-a886-a291423a8e95\"}, mhSessionId = UUID {uuidToString = \"a0e4f46c-cc64-4a19-b12d-9f1d3cc9c657\"}, mhUsername = \"\", mhMsgType = ExecuteErrorMessage, mhBuffers = []}",
     "output_type": "error",
     "traceback": [
      "<interactive>:1:12: error:\n    • Couldn't match kind ‘[*]’ with ‘*’\n      When matching types\n        f :: * -> *\n        Rec Identity :: [*] -> *\n      Expected type: f a0\n        Actual type: Rec Identity '[String, Int]\n    • In the second argument of ‘(<$>)’, namely ‘t’\n      In the expression: toJSON <$> t\n      In an equation for ‘it’: it = toJSON <$> t\n    • Relevant bindings include it :: f Value (bound at <interactive>:1:1)"
     ]
    }
   ],
   "source": [
    "t = xrec (\"Joe\", 23) :: Rec Identity '[String, Int]\n",
    "toJSON <$> t"
   ]
  },
  {
   "cell_type": "markdown",
   "metadata": {},
   "source": [
    "The compiler tells us `Couldn't match kind ‘[*]’ with ‘*’`.\n",
    "And this makes sense because the kind `[*]` is just something different than the kind `*`.\n",
    "In other words, our mapping attempt tried to apply `toJSON` to a type of kind `[*]` but that is not how it is defined.\n",
    "It is defined as an operation on the individual fields wrapped in the `Identity` functor.\n",
    "But how do we do it then?\n",
    "\n",
    "One approach is to change the interpretation functor.\n",
    "Vinyl provides a method `rmapMethod1` for this:"
   ]
  },
  {
   "cell_type": "code",
   "execution_count": 39,
   "metadata": {},
   "outputs": [
    {
     "data": {
      "text/html": [
       "<style>/* Styles used for the Hoogle display in the pager */\n",
       ".hoogle-doc {\n",
       "display: block;\n",
       "padding-bottom: 1.3em;\n",
       "padding-left: 0.4em;\n",
       "}\n",
       ".hoogle-code {\n",
       "display: block;\n",
       "font-family: monospace;\n",
       "white-space: pre;\n",
       "}\n",
       ".hoogle-text {\n",
       "display: block;\n",
       "}\n",
       ".hoogle-name {\n",
       "color: green;\n",
       "font-weight: bold;\n",
       "}\n",
       ".hoogle-head {\n",
       "font-weight: bold;\n",
       "}\n",
       ".hoogle-sub {\n",
       "display: block;\n",
       "margin-left: 0.4em;\n",
       "}\n",
       ".hoogle-package {\n",
       "font-weight: bold;\n",
       "font-style: italic;\n",
       "}\n",
       ".hoogle-module {\n",
       "font-weight: bold;\n",
       "}\n",
       ".hoogle-class {\n",
       "font-weight: bold;\n",
       "}\n",
       ".get-type {\n",
       "color: green;\n",
       "font-weight: bold;\n",
       "font-family: monospace;\n",
       "display: block;\n",
       "white-space: pre-wrap;\n",
       "}\n",
       ".show-type {\n",
       "color: green;\n",
       "font-weight: bold;\n",
       "font-family: monospace;\n",
       "margin-left: 1em;\n",
       "}\n",
       ".mono {\n",
       "font-family: monospace;\n",
       "display: block;\n",
       "}\n",
       ".err-msg {\n",
       "color: red;\n",
       "font-style: italic;\n",
       "font-family: monospace;\n",
       "white-space: pre;\n",
       "display: block;\n",
       "}\n",
       "#unshowable {\n",
       "color: red;\n",
       "font-weight: bold;\n",
       "}\n",
       ".err-msg.in.collapse {\n",
       "padding-top: 0.7em;\n",
       "}\n",
       ".highlight-code {\n",
       "white-space: pre;\n",
       "font-family: monospace;\n",
       "}\n",
       ".suggestion-warning { \n",
       "font-weight: bold;\n",
       "color: rgb(200, 130, 0);\n",
       "}\n",
       ".suggestion-error { \n",
       "font-weight: bold;\n",
       "color: red;\n",
       "}\n",
       ".suggestion-name {\n",
       "font-weight: bold;\n",
       "}\n",
       "</style><span class='get-type'>rmap :: forall (rs :: [*]) (f :: * -> *) (g :: * -> *). RMap rs => (forall x. f x -> g x) -> Rec f rs -> Rec g rs</span>"
      ],
      "text/plain": [
       "rmap :: forall (rs :: [*]) (f :: * -> *) (g :: * -> *). RMap rs => (forall x. f x -> g x) -> Rec f rs -> Rec g rs"
      ]
     },
     "metadata": {},
     "output_type": "display_data"
    }
   ],
   "source": [
    "import Data.Vinyl.Class.Method (RecMapMethod1(rmapMethod1))\n",
    "\n",
    ":t rmap"
   ]
  },
  {
   "cell_type": "markdown",
   "metadata": {},
   "source": [
    "We can see that it takes a function that transforms an interpretation function `f` into another one `g`, for any value of `x`.\n",
    "How would this look like for `Identity`?\n",
    "Let's try to wrap all values into a `Maybe` functor.\n",
    "For example, setting them to `Just` and then their value.\n",
    "This function is easy to write:"
   ]
  },
  {
   "cell_type": "code",
   "execution_count": 40,
   "metadata": {},
   "outputs": [],
   "source": [
    "mapper :: Identity x -> Maybe x\n",
    "mapper (Identity x) = Just x"
   ]
  },
  {
   "cell_type": "markdown",
   "metadata": {},
   "source": [
    "Can we map this over a record?"
   ]
  },
  {
   "cell_type": "code",
   "execution_count": 41,
   "metadata": {},
   "outputs": [
    {
     "data": {
      "text/plain": [
       "{Just \"Joe\", Just 23}"
      ]
     },
     "metadata": {},
     "output_type": "display_data"
    }
   ],
   "source": [
    "rmap mapper t"
   ]
  },
  {
   "cell_type": "markdown",
   "metadata": {},
   "source": [
    "Excellent, this works!\n",
    "But isn't there a fundamental difference between wrapping a type and _changing the type of something_?\n",
    "Indeed, the type signature of `rmap` requires the types `rs` of the record fields to remain unchanged.\n",
    "Here is a trick around this, the `Const` functor:"
   ]
  },
  {
   "cell_type": "code",
   "execution_count": 42,
   "metadata": {},
   "outputs": [
    {
     "data": {
      "text/plain": [
       "{(Const \"hey\"), (Const \"hey\")}"
      ]
     },
     "metadata": {},
     "output_type": "display_data"
    }
   ],
   "source": [
    "import Data.Vinyl.Functor (Const(Const), getConst)\n",
    "\n",
    "mapper2 :: Identity a -> Const String a\n",
    "mapper2 (Identity x) = Const \"hey\"\n",
    "\n",
    "rmap mapper2 t"
   ]
  },
  {
   "cell_type": "markdown",
   "metadata": {},
   "source": [
    "Wow wait.\n",
    "Isn't this cheating?\n",
    "Let's look at the type of this new record:"
   ]
  },
  {
   "cell_type": "code",
   "execution_count": 43,
   "metadata": {},
   "outputs": [
    {
     "data": {
      "text/html": [
       "<style>/* Styles used for the Hoogle display in the pager */\n",
       ".hoogle-doc {\n",
       "display: block;\n",
       "padding-bottom: 1.3em;\n",
       "padding-left: 0.4em;\n",
       "}\n",
       ".hoogle-code {\n",
       "display: block;\n",
       "font-family: monospace;\n",
       "white-space: pre;\n",
       "}\n",
       ".hoogle-text {\n",
       "display: block;\n",
       "}\n",
       ".hoogle-name {\n",
       "color: green;\n",
       "font-weight: bold;\n",
       "}\n",
       ".hoogle-head {\n",
       "font-weight: bold;\n",
       "}\n",
       ".hoogle-sub {\n",
       "display: block;\n",
       "margin-left: 0.4em;\n",
       "}\n",
       ".hoogle-package {\n",
       "font-weight: bold;\n",
       "font-style: italic;\n",
       "}\n",
       ".hoogle-module {\n",
       "font-weight: bold;\n",
       "}\n",
       ".hoogle-class {\n",
       "font-weight: bold;\n",
       "}\n",
       ".get-type {\n",
       "color: green;\n",
       "font-weight: bold;\n",
       "font-family: monospace;\n",
       "display: block;\n",
       "white-space: pre-wrap;\n",
       "}\n",
       ".show-type {\n",
       "color: green;\n",
       "font-weight: bold;\n",
       "font-family: monospace;\n",
       "margin-left: 1em;\n",
       "}\n",
       ".mono {\n",
       "font-family: monospace;\n",
       "display: block;\n",
       "}\n",
       ".err-msg {\n",
       "color: red;\n",
       "font-style: italic;\n",
       "font-family: monospace;\n",
       "white-space: pre;\n",
       "display: block;\n",
       "}\n",
       "#unshowable {\n",
       "color: red;\n",
       "font-weight: bold;\n",
       "}\n",
       ".err-msg.in.collapse {\n",
       "padding-top: 0.7em;\n",
       "}\n",
       ".highlight-code {\n",
       "white-space: pre;\n",
       "font-family: monospace;\n",
       "}\n",
       ".suggestion-warning { \n",
       "font-weight: bold;\n",
       "color: rgb(200, 130, 0);\n",
       "}\n",
       ".suggestion-error { \n",
       "font-weight: bold;\n",
       "color: red;\n",
       "}\n",
       ".suggestion-name {\n",
       "font-weight: bold;\n",
       "}\n",
       "</style><span class='get-type'>(rmap mapper2 t) :: Rec (Const String) '[String, Int]</span>"
      ],
      "text/plain": [
       "(rmap mapper2 t) :: Rec (Const String) '[String, Int]"
      ]
     },
     "metadata": {},
     "output_type": "display_data"
    }
   ],
   "source": [
    ":t (rmap mapper2 t)"
   ]
  },
  {
   "cell_type": "markdown",
   "metadata": {},
   "source": [
    "We see that, although all elements appear to be strings, the original type of the field _hasn't changed_.\n",
    "However their interpretation _has changed_.\n",
    "We can get the final values like this:"
   ]
  },
  {
   "cell_type": "code",
   "execution_count": 44,
   "metadata": {},
   "outputs": [
    {
     "data": {
      "text/plain": [
       "\"hey\""
      ]
     },
     "metadata": {},
     "output_type": "display_data"
    },
    {
     "data": {
      "text/plain": [
       "\"hey\""
      ]
     },
     "metadata": {},
     "output_type": "display_data"
    }
   ],
   "source": [
    "import Data.Vinyl (rget)\n",
    "\n",
    "getConst (rget (rmap mapper2 t) :: Const String String)\n",
    "getConst (rget (rmap mapper2 t) :: Const String Int)"
   ]
  },
  {
   "cell_type": "markdown",
   "metadata": {},
   "source": [
    "Instead of having a `Maybe` value attached, we now have a constant value attached!\n",
    "Can we do this also with a type class?"
   ]
  },
  {
   "cell_type": "code",
   "execution_count": 45,
   "metadata": {},
   "outputs": [],
   "source": [
    "mapper3 :: Show a => Identity a -> Const String a\n",
    "mapper3 (Identity x) = Const (show x)"
   ]
  },
  {
   "cell_type": "markdown",
   "metadata": {},
   "source": [
    "This works fine.\n",
    "However, this one doesn't:"
   ]
  },
  {
   "cell_type": "code",
   "execution_count": 46,
   "metadata": {},
   "outputs": [
    {
     "ename": "",
     "evalue": "",
     "header": "MessageHeader {mhIdentifiers = [\"a0e4f46c-cc64-4a19-b12d-9f1d3cc9c657\"], mhParentHeader = Just (MessageHeader {mhIdentifiers = [\"a0e4f46c-cc64-4a19-b12d-9f1d3cc9c657\"], mhParentHeader = Nothing, mhMetadata = Metadata (fromList [(\"recordTiming\",Bool False),(\"deletedCells\",Array []),(\"cellId\",String \"d2339196-9a48-4f66-b062-a70cd317532d\")]), mhMessageId = UUID {uuidToString = \"91ae58b0-c594-4582-9c77-48cef2bc1601\"}, mhSessionId = UUID {uuidToString = \"a0e4f46c-cc64-4a19-b12d-9f1d3cc9c657\"}, mhUsername = \"\", mhMsgType = ExecuteRequestMessage, mhBuffers = []}), mhMetadata = Metadata (fromList []), mhMessageId = UUID {uuidToString = \"ab55d87b-5c57-4f4b-be2c-b1058ed256a4\"}, mhSessionId = UUID {uuidToString = \"a0e4f46c-cc64-4a19-b12d-9f1d3cc9c657\"}, mhUsername = \"\", mhMsgType = ExecuteErrorMessage, mhBuffers = []}",
     "output_type": "error",
     "traceback": [
      "<interactive>:1:6: error:\n    • No instance for (Show x) arising from a use of ‘mapper3’\n      Possible fix:\n        add (Show x) to the context of\n          a type expected by the context:\n            forall x. Identity x -> Const String x\n    • In the first argument of ‘rmap’, namely ‘mapper3’\n      In the expression: rmap mapper3 t\n      In an equation for ‘it’: it = rmap mapper3 t"
     ]
    }
   ],
   "source": [
    "rmap mapper3 t"
   ]
  },
  {
   "cell_type": "markdown",
   "metadata": {},
   "source": [
    "We need more magic to make this work.\n",
    "We need a mapping function that can ensure the correct class constraints.\n",
    "And Vinyl provides such a method:"
   ]
  },
  {
   "cell_type": "code",
   "execution_count": 47,
   "metadata": {},
   "outputs": [
    {
     "data": {
      "text/plain": [
       "{(Const \"\\\"Joe\\\"\"), (Const \"23\")}"
      ]
     },
     "metadata": {},
     "output_type": "display_data"
    }
   ],
   "source": [
    ":ext TypeApplications\n",
    "\n",
    "import Data.Vinyl (rmapMethod)\n",
    "\n",
    "rmapMethod @Show mapper3 t"
   ]
  },
  {
   "cell_type": "markdown",
   "metadata": {},
   "source": [
    "The class that is to be constraint is fed to `rmapMethod` via Typeapplications.\n",
    "Changing the interpretation functor might seem a bit ugly.\n",
    "Another way of mapping exists:"
   ]
  },
  {
   "cell_type": "code",
   "execution_count": 48,
   "metadata": {},
   "outputs": [
    {
     "data": {
      "text/html": [
       "<style>/* Styles used for the Hoogle display in the pager */\n",
       ".hoogle-doc {\n",
       "display: block;\n",
       "padding-bottom: 1.3em;\n",
       "padding-left: 0.4em;\n",
       "}\n",
       ".hoogle-code {\n",
       "display: block;\n",
       "font-family: monospace;\n",
       "white-space: pre;\n",
       "}\n",
       ".hoogle-text {\n",
       "display: block;\n",
       "}\n",
       ".hoogle-name {\n",
       "color: green;\n",
       "font-weight: bold;\n",
       "}\n",
       ".hoogle-head {\n",
       "font-weight: bold;\n",
       "}\n",
       ".hoogle-sub {\n",
       "display: block;\n",
       "margin-left: 0.4em;\n",
       "}\n",
       ".hoogle-package {\n",
       "font-weight: bold;\n",
       "font-style: italic;\n",
       "}\n",
       ".hoogle-module {\n",
       "font-weight: bold;\n",
       "}\n",
       ".hoogle-class {\n",
       "font-weight: bold;\n",
       "}\n",
       ".get-type {\n",
       "color: green;\n",
       "font-weight: bold;\n",
       "font-family: monospace;\n",
       "display: block;\n",
       "white-space: pre-wrap;\n",
       "}\n",
       ".show-type {\n",
       "color: green;\n",
       "font-weight: bold;\n",
       "font-family: monospace;\n",
       "margin-left: 1em;\n",
       "}\n",
       ".mono {\n",
       "font-family: monospace;\n",
       "display: block;\n",
       "}\n",
       ".err-msg {\n",
       "color: red;\n",
       "font-style: italic;\n",
       "font-family: monospace;\n",
       "white-space: pre;\n",
       "display: block;\n",
       "}\n",
       "#unshowable {\n",
       "color: red;\n",
       "font-weight: bold;\n",
       "}\n",
       ".err-msg.in.collapse {\n",
       "padding-top: 0.7em;\n",
       "}\n",
       ".highlight-code {\n",
       "white-space: pre;\n",
       "font-family: monospace;\n",
       "}\n",
       ".suggestion-warning { \n",
       "font-weight: bold;\n",
       "color: rgb(200, 130, 0);\n",
       "}\n",
       ".suggestion-error { \n",
       "font-weight: bold;\n",
       "color: red;\n",
       "}\n",
       ".suggestion-name {\n",
       "font-weight: bold;\n",
       "}\n",
       "</style><span class='get-type'>(rmapMethod @Show mapper3) :: forall (ts :: [*]). RecMapMethod Show Identity ts => Rec Identity ts -> Rec (Const String) ts</span>"
      ],
      "text/plain": [
       "(rmapMethod @Show mapper3) :: forall (ts :: [*]). RecMapMethod Show Identity ts => Rec Identity ts -> Rec (Const String) ts"
      ]
     },
     "metadata": {},
     "output_type": "display_data"
    }
   ],
   "source": [
    ":t (rmapMethod @Show mapper3)"
   ]
  },
  {
   "cell_type": "code",
   "execution_count": 49,
   "metadata": {},
   "outputs": [
    {
     "data": {
      "text/plain": [
       "{name :-> \"joe\", age :-> 23}"
      ]
     },
     "metadata": {},
     "output_type": "display_data"
    }
   ],
   "source": [
    "t :: FieldRec [\"name\" ::: String, \"age\" ::: Int]\n",
    "t = xrec (\"joe\", 23)\n",
    "t"
   ]
  },
  {
   "cell_type": "code",
   "execution_count": 50,
   "metadata": {},
   "outputs": [
    {
     "ename": "",
     "evalue": "",
     "header": "MessageHeader {mhIdentifiers = [\"a0e4f46c-cc64-4a19-b12d-9f1d3cc9c657\"], mhParentHeader = Just (MessageHeader {mhIdentifiers = [\"a0e4f46c-cc64-4a19-b12d-9f1d3cc9c657\"], mhParentHeader = Nothing, mhMetadata = Metadata (fromList [(\"recordTiming\",Bool False),(\"deletedCells\",Array []),(\"cellId\",String \"9c1991f4-63de-4db5-baf9-50f8980c8ebd\")]), mhMessageId = UUID {uuidToString = \"175ac63c-f21b-43fa-a8f9-84e3b8c01408\"}, mhSessionId = UUID {uuidToString = \"a0e4f46c-cc64-4a19-b12d-9f1d3cc9c657\"}, mhUsername = \"\", mhMsgType = ExecuteRequestMessage, mhBuffers = []}), mhMetadata = Metadata (fromList []), mhMessageId = UUID {uuidToString = \"f956cadf-9e4c-465f-942e-08677cd23c7a\"}, mhSessionId = UUID {uuidToString = \"a0e4f46c-cc64-4a19-b12d-9f1d3cc9c657\"}, mhUsername = \"\", mhMsgType = ExecuteErrorMessage, mhBuffers = []}",
     "output_type": "error",
     "traceback": [
      "<interactive>:1:18: error:\n    • Couldn't match kind ‘(Symbol, *)’ with ‘*’\n      When matching types\n        g :: (Symbol, *) -> *\n        Const String :: * -> *\n      Expected type: ElField a -> g a\n        Actual type: Identity () -> Const String ()\n    • In the second argument of ‘rmapMethod’, namely ‘mapper3’\n      In the expression: rmapMethod @Show mapper3 t\n      In an equation for ‘it’: it = rmapMethod @Show mapper3 t\n    • Relevant bindings include it :: Rec g '[\"name\" ::: String, \"age\" ::: Int] (bound at <interactive>:1:1)"
     ]
    }
   ],
   "source": [
    "rmapMethod @Show mapper3 t"
   ]
  },
  {
   "cell_type": "markdown",
   "metadata": {},
   "source": [
    "Well this is annoying.\n",
    "Let's see what we can do about it:"
   ]
  },
  {
   "cell_type": "code",
   "execution_count": 68,
   "metadata": {},
   "outputs": [
    {
     "data": {
      "text/plain": [
       "{(Const \"name :-> \\\"joe\\\"\"), (Const \"age :-> 23\")}"
      ]
     },
     "metadata": {},
     "output_type": "display_data"
    }
   ],
   "source": [
    "transform :: (RecMapMethod1 Show ElField rs) => Rec ElField rs -> Rec (Const String) rs\n",
    "transform = rmapMethod1 @Show (Const . show)\n",
    "\n",
    "transform t"
   ]
  },
  {
   "cell_type": "markdown",
   "metadata": {},
   "source": [
    "Well this is not quit what we want.\n",
    "It transformed the whole `ElField` to a String.\n",
    "How can we make this better?"
   ]
  },
  {
   "cell_type": "code",
   "execution_count": 67,
   "metadata": {},
   "outputs": [
    {
     "ename": "",
     "evalue": "",
     "header": "MessageHeader {mhIdentifiers = [\"a0e4f46c-cc64-4a19-b12d-9f1d3cc9c657\"], mhParentHeader = Just (MessageHeader {mhIdentifiers = [\"a0e4f46c-cc64-4a19-b12d-9f1d3cc9c657\"], mhParentHeader = Nothing, mhMetadata = Metadata (fromList [(\"recordTiming\",Bool False),(\"deletedCells\",Array []),(\"cellId\",String \"2ad61daa-281a-4dc7-b85a-70e366480770\")]), mhMessageId = UUID {uuidToString = \"7f06d4af-6633-4345-a92d-c1944697ecca\"}, mhSessionId = UUID {uuidToString = \"a0e4f46c-cc64-4a19-b12d-9f1d3cc9c657\"}, mhUsername = \"\", mhMsgType = ExecuteRequestMessage, mhBuffers = []}), mhMetadata = Metadata (fromList []), mhMessageId = UUID {uuidToString = \"c3718177-5020-4099-9e8e-76753ee7741e\"}, mhSessionId = UUID {uuidToString = \"a0e4f46c-cc64-4a19-b12d-9f1d3cc9c657\"}, mhUsername = \"\", mhMsgType = ExecuteErrorMessage, mhBuffers = []}",
     "output_type": "error",
     "traceback": [
      "<interactive>:2:32: error:\n    • Couldn't match type ‘a’ with ‘'(s0, ())’\n      ‘a’ is a rigid type variable bound by\n        a type expected by the context:\n          forall (a :: (Symbol, *)). Show (ElField a) => ElField a -> Const String a\n        at <interactive>:2:31-55\n      Expected type: ElField a -> Const String a\n        Actual type: ElField '(s0, ()) -> Const String a\n    • In the second argument of ‘rmapMethod1’, namely ‘(Const . show . getField)’\n      In the expression: rmapMethod1 @Show (Const . show . getField)\n      In an equation for ‘transform’: transform = rmapMethod1 @Show (Const . show . getField)"
     ]
    }
   ],
   "source": [
    "import Data.Vinyl (getField)\n",
    "\n",
    "transform :: (RecMapMethod1 Show ElField rs) => Rec ElField rs -> Rec (Const String) rs\n",
    "transform = rmapMethod1 @Show (Const . show . getField)\n",
    "\n",
    "transform t"
   ]
  },
  {
   "cell_type": "markdown",
   "metadata": {},
   "source": [
    "S... the types got us again.\n",
    "The issue is that `RecMapMethod1 c f` expects the _constraint `c` to apply to `f a` for each `a`_, as `Show` does because `ElField (s,a)` has a show instance.\n",
    "In this case, however, with `x :: ElField (s,a)` we apply show to `getField x`, not to `x` itself.\n",
    "Let's setup a different instance:"
   ]
  },
  {
   "cell_type": "code",
   "execution_count": 58,
   "metadata": {},
   "outputs": [
    {
     "data": {
      "text/html": [
       "<style>/* Styles used for the Hoogle display in the pager */\n",
       ".hoogle-doc {\n",
       "display: block;\n",
       "padding-bottom: 1.3em;\n",
       "padding-left: 0.4em;\n",
       "}\n",
       ".hoogle-code {\n",
       "display: block;\n",
       "font-family: monospace;\n",
       "white-space: pre;\n",
       "}\n",
       ".hoogle-text {\n",
       "display: block;\n",
       "}\n",
       ".hoogle-name {\n",
       "color: green;\n",
       "font-weight: bold;\n",
       "}\n",
       ".hoogle-head {\n",
       "font-weight: bold;\n",
       "}\n",
       ".hoogle-sub {\n",
       "display: block;\n",
       "margin-left: 0.4em;\n",
       "}\n",
       ".hoogle-package {\n",
       "font-weight: bold;\n",
       "font-style: italic;\n",
       "}\n",
       ".hoogle-module {\n",
       "font-weight: bold;\n",
       "}\n",
       ".hoogle-class {\n",
       "font-weight: bold;\n",
       "}\n",
       ".get-type {\n",
       "color: green;\n",
       "font-weight: bold;\n",
       "font-family: monospace;\n",
       "display: block;\n",
       "white-space: pre-wrap;\n",
       "}\n",
       ".show-type {\n",
       "color: green;\n",
       "font-weight: bold;\n",
       "font-family: monospace;\n",
       "margin-left: 1em;\n",
       "}\n",
       ".mono {\n",
       "font-family: monospace;\n",
       "display: block;\n",
       "}\n",
       ".err-msg {\n",
       "color: red;\n",
       "font-style: italic;\n",
       "font-family: monospace;\n",
       "white-space: pre;\n",
       "display: block;\n",
       "}\n",
       "#unshowable {\n",
       "color: red;\n",
       "font-weight: bold;\n",
       "}\n",
       ".err-msg.in.collapse {\n",
       "padding-top: 0.7em;\n",
       "}\n",
       ".highlight-code {\n",
       "white-space: pre;\n",
       "font-family: monospace;\n",
       "}\n",
       ".suggestion-warning { \n",
       "font-weight: bold;\n",
       "color: rgb(200, 130, 0);\n",
       "}\n",
       ".suggestion-error { \n",
       "font-weight: bold;\n",
       "color: red;\n",
       "}\n",
       ".suggestion-name {\n",
       "font-weight: bold;\n",
       "}\n",
       "</style><span class='get-type'>myshow (Field \"hey\" :: ElField (\"hey\" ::: String)) :: String</span>"
      ],
      "text/plain": [
       "myshow (Field \"hey\" :: ElField (\"hey\" ::: String)) :: String"
      ]
     },
     "metadata": {},
     "output_type": "display_data"
    }
   ],
   "source": [
    ":ext FlexibleInstances\n",
    "\n",
    "class MyShow a where\n",
    "    myshow :: a -> String\n",
    "\n",
    "instance Show a => MyShow (ElField '(s,a)) where\n",
    "    myshow x = show $ getField x\n",
    "\n",
    ":t myshow (Field \"hey\" :: ElField (\"hey\" ::: String))"
   ]
  },
  {
   "cell_type": "code",
   "execution_count": 59,
   "metadata": {},
   "outputs": [],
   "source": [
    "mapper5 :: (RecMapMethod1 MyShow ElField a) => Rec ElField a -> Rec (Const String) a\n",
    "mapper5 = rmapMethod1 @MyShow (Const . myshow)"
   ]
  },
  {
   "cell_type": "code",
   "execution_count": 70,
   "metadata": {},
   "outputs": [
    {
     "data": {
      "text/plain": [
       "{(Const \"\\\"joe\\\"\"), (Const \"23\")}"
      ]
     },
     "metadata": {},
     "output_type": "display_data"
    }
   ],
   "source": [
    "b = mapper5 t\n",
    "b"
   ]
  },
  {
   "cell_type": "markdown",
   "metadata": {},
   "source": [
    "What is the easiest way to get these values out?"
   ]
  },
  {
   "cell_type": "code",
   "execution_count": 111,
   "metadata": {},
   "outputs": [
    {
     "data": {
      "text/plain": [
       "[\"\\\"joe\\\"\",\"23\"]"
      ]
     },
     "metadata": {},
     "output_type": "display_data"
    }
   ],
   "source": [
    "import Data.Vinyl (rfoldMap)\n",
    "\n",
    "rfoldMap (\\x -> [getConst x]) b"
   ]
  },
  {
   "cell_type": "code",
   "execution_count": 112,
   "metadata": {},
   "outputs": [
    {
     "data": {
      "text/html": [
       "<style>/* Styles used for the Hoogle display in the pager */\n",
       ".hoogle-doc {\n",
       "display: block;\n",
       "padding-bottom: 1.3em;\n",
       "padding-left: 0.4em;\n",
       "}\n",
       ".hoogle-code {\n",
       "display: block;\n",
       "font-family: monospace;\n",
       "white-space: pre;\n",
       "}\n",
       ".hoogle-text {\n",
       "display: block;\n",
       "}\n",
       ".hoogle-name {\n",
       "color: green;\n",
       "font-weight: bold;\n",
       "}\n",
       ".hoogle-head {\n",
       "font-weight: bold;\n",
       "}\n",
       ".hoogle-sub {\n",
       "display: block;\n",
       "margin-left: 0.4em;\n",
       "}\n",
       ".hoogle-package {\n",
       "font-weight: bold;\n",
       "font-style: italic;\n",
       "}\n",
       ".hoogle-module {\n",
       "font-weight: bold;\n",
       "}\n",
       ".hoogle-class {\n",
       "font-weight: bold;\n",
       "}\n",
       ".get-type {\n",
       "color: green;\n",
       "font-weight: bold;\n",
       "font-family: monospace;\n",
       "display: block;\n",
       "white-space: pre-wrap;\n",
       "}\n",
       ".show-type {\n",
       "color: green;\n",
       "font-weight: bold;\n",
       "font-family: monospace;\n",
       "margin-left: 1em;\n",
       "}\n",
       ".mono {\n",
       "font-family: monospace;\n",
       "display: block;\n",
       "}\n",
       ".err-msg {\n",
       "color: red;\n",
       "font-style: italic;\n",
       "font-family: monospace;\n",
       "white-space: pre;\n",
       "display: block;\n",
       "}\n",
       "#unshowable {\n",
       "color: red;\n",
       "font-weight: bold;\n",
       "}\n",
       ".err-msg.in.collapse {\n",
       "padding-top: 0.7em;\n",
       "}\n",
       ".highlight-code {\n",
       "white-space: pre;\n",
       "font-family: monospace;\n",
       "}\n",
       ".suggestion-warning { \n",
       "font-weight: bold;\n",
       "color: rgb(200, 130, 0);\n",
       "}\n",
       ".suggestion-error { \n",
       "font-weight: bold;\n",
       "color: red;\n",
       "}\n",
       ".suggestion-name {\n",
       "font-weight: bold;\n",
       "}\n",
       "</style><span class='get-type'>(rfoldMap (\\x -> [getConst x])) :: forall (rs :: [*]) a. RFoldMap rs => Rec (Const a) rs -> [a]</span>"
      ],
      "text/plain": [
       "(rfoldMap (\\x -> [getConst x])) :: forall (rs :: [*]) a. RFoldMap rs => Rec (Const a) rs -> [a]"
      ]
     },
     "metadata": {},
     "output_type": "display_data"
    }
   ],
   "source": [
    ":t (rfoldMap (\\x -> [getConst x]))"
   ]
  }
 ],
 "metadata": {
  "kernelspec": {
   "display_name": "Haskell - haskell",
   "language": "haskell",
   "name": "ihaskell_haskell"
  },
  "language_info": {
   "codemirror_mode": "Haskell",
   "file_extension": ".hs",
   "mimetype": "text/x-haskell",
   "name": "haskell",
   "pygments_lexer": "Haskell",
   "version": "8.8.3"
  }
 },
 "nbformat": 4,
 "nbformat_minor": 4
}
